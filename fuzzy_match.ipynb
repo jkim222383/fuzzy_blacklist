{
 "cells": [
  {
   "cell_type": "code",
   "execution_count": 1,
   "metadata": {},
   "outputs": [],
   "source": [
    "from fuzzywuzzy import fuzz\n",
    "import numpy as np\n",
    "import pandas as pd\n",
    "import os"
   ]
  },
  {
   "cell_type": "code",
   "execution_count": 2,
   "metadata": {},
   "outputs": [],
   "source": [
    "pickle_dict = {}\n",
    "unique_index = {}\n",
    "filtered = [\"filtered_adds\", \"filtered_ents\", \"filtered_peos\"]\n",
    "unfiltered = [\"unfiltered_adds\", \"unfiltered_ents\", \"unfiltered_peos\"]\n",
    "\n",
    "for d in filtered + unfiltered:\n",
    "    pickle_dict[d] = pd.read_pickle(os.path.join(\"data\", \"processed\", d))\n",
    "    unique_index[d] = np.array(pickle_dict[d].index.unique())\n",
    "    "
   ]
  },
  {
   "cell_type": "code",
   "execution_count": 3,
   "metadata": {},
   "outputs": [],
   "source": [
    "def fuzzy_match(search, search_crit):\n",
    "    scores = np.vectorize(lambda x : fuzz.ratio(x, search))(unique_index[search_crit])\n",
    "    ind = np.argpartition(scores, -10)[-10:]\n",
    "    ind = ind[np.argsort(-scores[ind])]\n",
    "    return unique_index[search_crit][ind]"
   ]
  },
  {
   "cell_type": "code",
   "execution_count": 4,
   "metadata": {},
   "outputs": [
    {
     "data": {
      "text/plain": [
       "array(['Barbaro Levi', 'Barbara Lenz', 'Barbara Nelson', 'Barbara Minns',\n",
       "       'Barbara Jean Nelson', 'Barbara G. Abela', 'Barbara Siu',\n",
       "       'Barr - David', 'Barbara Shiu', 'Brand - Kevin'], dtype=object)"
      ]
     },
     "execution_count": 4,
     "metadata": {},
     "output_type": "execute_result"
    }
   ],
   "source": [
    "fuzzy_match(\"Barbara L Devlin\", search_crit=\"unfiltered_peos\")"
   ]
  },
  {
   "cell_type": "code",
   "execution_count": 5,
   "metadata": {},
   "outputs": [],
   "source": [
    "def fuzzy_search(search, search_crit):\n",
    "    matches = fuzzy_match(search, search_crit)\n",
    "    return pickle_dict[search_crit].loc[matches]"
   ]
  },
  {
   "cell_type": "code",
   "execution_count": 6,
   "metadata": {},
   "outputs": [
    {
     "data": {
      "text/html": [
       "<div>\n",
       "<style scoped>\n",
       "    .dataframe tbody tr th:only-of-type {\n",
       "        vertical-align: middle;\n",
       "    }\n",
       "\n",
       "    .dataframe tbody tr th {\n",
       "        vertical-align: top;\n",
       "    }\n",
       "\n",
       "    .dataframe thead th {\n",
       "        text-align: right;\n",
       "    }\n",
       "</style>\n",
       "<table border=\"1\" class=\"dataframe\">\n",
       "  <thead>\n",
       "    <tr style=\"text-align: right;\">\n",
       "      <th></th>\n",
       "      <th>sourceID</th>\n",
       "      <th>country_codes</th>\n",
       "    </tr>\n",
       "    <tr>\n",
       "      <th>name</th>\n",
       "      <th></th>\n",
       "      <th></th>\n",
       "    </tr>\n",
       "  </thead>\n",
       "  <tbody>\n",
       "    <tr>\n",
       "      <th>Barbaro Levi</th>\n",
       "      <td>Panama Papers</td>\n",
       "      <td>MCO</td>\n",
       "    </tr>\n",
       "    <tr>\n",
       "      <th>Barbara Lenz</th>\n",
       "      <td>Offshore Leaks</td>\n",
       "      <td>ZAF</td>\n",
       "    </tr>\n",
       "    <tr>\n",
       "      <th>Barbara Nelson</th>\n",
       "      <td>Offshore Leaks</td>\n",
       "      <td>USA</td>\n",
       "    </tr>\n",
       "    <tr>\n",
       "      <th>Barbara Minns</th>\n",
       "      <td>Panama Papers</td>\n",
       "      <td>JEY</td>\n",
       "    </tr>\n",
       "    <tr>\n",
       "      <th>Barbara Jean Nelson</th>\n",
       "      <td>Offshore Leaks</td>\n",
       "      <td>USA</td>\n",
       "    </tr>\n",
       "    <tr>\n",
       "      <th>Barbara G. Abela</th>\n",
       "      <td>Offshore Leaks</td>\n",
       "      <td>XXX</td>\n",
       "    </tr>\n",
       "    <tr>\n",
       "      <th>Barbara Siu</th>\n",
       "      <td>Offshore Leaks</td>\n",
       "      <td>TWN</td>\n",
       "    </tr>\n",
       "    <tr>\n",
       "      <th>Barr - David</th>\n",
       "      <td>Paradise Papers - Appleby</td>\n",
       "      <td>USA</td>\n",
       "    </tr>\n",
       "    <tr>\n",
       "      <th>Barbara Shiu</th>\n",
       "      <td>Offshore Leaks</td>\n",
       "      <td>XXX</td>\n",
       "    </tr>\n",
       "    <tr>\n",
       "      <th>Brand - Kevin</th>\n",
       "      <td>Paradise Papers - Appleby</td>\n",
       "      <td>USA</td>\n",
       "    </tr>\n",
       "  </tbody>\n",
       "</table>\n",
       "</div>"
      ],
      "text/plain": [
       "                                      sourceID country_codes\n",
       "name                                                        \n",
       "Barbaro Levi                     Panama Papers           MCO\n",
       "Barbara Lenz                    Offshore Leaks           ZAF\n",
       "Barbara Nelson                  Offshore Leaks           USA\n",
       "Barbara Minns                    Panama Papers           JEY\n",
       "Barbara Jean Nelson             Offshore Leaks           USA\n",
       "Barbara G. Abela                Offshore Leaks           XXX\n",
       "Barbara Siu                     Offshore Leaks           TWN\n",
       "Barr - David         Paradise Papers - Appleby           USA\n",
       "Barbara Shiu                    Offshore Leaks           XXX\n",
       "Brand - Kevin        Paradise Papers - Appleby           USA"
      ]
     },
     "execution_count": 6,
     "metadata": {},
     "output_type": "execute_result"
    }
   ],
   "source": [
    "fuzzy_search(\"Barbara L Devlin\", search_crit=\"unfiltered_peos\")"
   ]
  },
  {
   "cell_type": "code",
   "execution_count": null,
   "metadata": {},
   "outputs": [],
   "source": []
  }
 ],
 "metadata": {
  "kernelspec": {
   "display_name": "Python [conda env:513]",
   "language": "python",
   "name": "conda-env-513-py"
  },
  "language_info": {
   "codemirror_mode": {
    "name": "ipython",
    "version": 3
   },
   "file_extension": ".py",
   "mimetype": "text/x-python",
   "name": "python",
   "nbconvert_exporter": "python",
   "pygments_lexer": "ipython3",
   "version": "3.7.8"
  }
 },
 "nbformat": 4,
 "nbformat_minor": 4
}
